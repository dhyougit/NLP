{
  "nbformat": 4,
  "nbformat_minor": 0,
  "metadata": {
    "colab": {
      "provenance": [],
      "authorship_tag": "ABX9TyPNoBbRgBTzaXYLsFLFYmNh",
      "include_colab_link": true
    },
    "kernelspec": {
      "name": "python3",
      "display_name": "Python 3"
    },
    "language_info": {
      "name": "python"
    }
  },
  "cells": [
    {
      "cell_type": "markdown",
      "metadata": {
        "id": "view-in-github",
        "colab_type": "text"
      },
      "source": [
        "<a href=\"https://colab.research.google.com/github/dhyougit/NLP/blob/main/Classfy_N_labels.ipynb\" target=\"_parent\"><img src=\"https://colab.research.google.com/assets/colab-badge.svg\" alt=\"Open In Colab\"/></a>"
      ]
    },
    {
      "cell_type": "code",
      "execution_count": 1,
      "metadata": {
        "colab": {
          "base_uri": "https://localhost:8080/",
          "height": 35
        },
        "id": "PouBCBL320Ql",
        "outputId": "688dc388-4a14-4b2c-9d96-7a0c5ec71a30"
      },
      "outputs": [
        {
          "output_type": "execute_result",
          "data": {
            "text/plain": [
              "'2.14.0'"
            ],
            "application/vnd.google.colaboratory.intrinsic+json": {
              "type": "string"
            }
          },
          "metadata": {},
          "execution_count": 1
        }
      ],
      "source": [
        "import keras\n",
        "keras.__version__"
      ]
    },
    {
      "cell_type": "code",
      "source": [
        "from keras.datasets import reuters\n",
        "\n",
        "(train_data, train_labels), (test_data, test_labels) = reuters.load_data(num_words=10000)"
      ],
      "metadata": {
        "colab": {
          "base_uri": "https://localhost:8080/"
        },
        "id": "f_BLiJB62_l-",
        "outputId": "0b91b31e-10d9-47bd-d0c7-a629e97d5464"
      },
      "execution_count": 2,
      "outputs": [
        {
          "output_type": "stream",
          "name": "stdout",
          "text": [
            "Downloading data from https://storage.googleapis.com/tensorflow/tf-keras-datasets/reuters.npz\n",
            "2110848/2110848 [==============================] - 0s 0us/step\n"
          ]
        }
      ]
    },
    {
      "cell_type": "code",
      "source": [
        "len(train_data)"
      ],
      "metadata": {
        "colab": {
          "base_uri": "https://localhost:8080/"
        },
        "id": "mPUjkVWB2_pt",
        "outputId": "5a30fd3c-7c71-4dd0-8acb-ec0a85accc10"
      },
      "execution_count": 3,
      "outputs": [
        {
          "output_type": "execute_result",
          "data": {
            "text/plain": [
              "8982"
            ]
          },
          "metadata": {},
          "execution_count": 3
        }
      ]
    },
    {
      "cell_type": "code",
      "source": [
        "len(test_data)"
      ],
      "metadata": {
        "colab": {
          "base_uri": "https://localhost:8080/"
        },
        "id": "gl_HV5uV2_sp",
        "outputId": "db46b8a6-666a-453f-843b-ef4fdac5e7f5"
      },
      "execution_count": 4,
      "outputs": [
        {
          "output_type": "execute_result",
          "data": {
            "text/plain": [
              "2246"
            ]
          },
          "metadata": {},
          "execution_count": 4
        }
      ]
    },
    {
      "cell_type": "code",
      "source": [
        "# check data\n",
        "train_data[10]"
      ],
      "metadata": {
        "colab": {
          "base_uri": "https://localhost:8080/"
        },
        "id": "fdSAatA72_vy",
        "outputId": "41d4d2de-744a-4e22-8602-bb03565ecad5"
      },
      "execution_count": 5,
      "outputs": [
        {
          "output_type": "execute_result",
          "data": {
            "text/plain": [
              "[1,\n",
              " 245,\n",
              " 273,\n",
              " 207,\n",
              " 156,\n",
              " 53,\n",
              " 74,\n",
              " 160,\n",
              " 26,\n",
              " 14,\n",
              " 46,\n",
              " 296,\n",
              " 26,\n",
              " 39,\n",
              " 74,\n",
              " 2979,\n",
              " 3554,\n",
              " 14,\n",
              " 46,\n",
              " 4689,\n",
              " 4329,\n",
              " 86,\n",
              " 61,\n",
              " 3499,\n",
              " 4795,\n",
              " 14,\n",
              " 61,\n",
              " 451,\n",
              " 4329,\n",
              " 17,\n",
              " 12]"
            ]
          },
          "metadata": {},
          "execution_count": 5
        }
      ]
    },
    {
      "cell_type": "code",
      "source": [
        "# reverse the index\n",
        "word_index = reuters.get_word_index()\n",
        "reverse_word_index = dict([(value, key) for (key, value) in word_index.items()])\n",
        "decoded_newswire = ' '.join([reverse_word_index.get(i - 3, '?') for i in train_data[0]])"
      ],
      "metadata": {
        "colab": {
          "base_uri": "https://localhost:8080/"
        },
        "id": "zv4uDm6t2_ys",
        "outputId": "08a0009c-583d-4487-d656-d8b4450f3e50"
      },
      "execution_count": 6,
      "outputs": [
        {
          "output_type": "stream",
          "name": "stdout",
          "text": [
            "Downloading data from https://storage.googleapis.com/tensorflow/tf-keras-datasets/reuters_word_index.json\n",
            "550378/550378 [==============================] - 0s 0us/step\n"
          ]
        }
      ]
    },
    {
      "cell_type": "code",
      "source": [
        "decoded_newswire"
      ],
      "metadata": {
        "colab": {
          "base_uri": "https://localhost:8080/",
          "height": 71
        },
        "id": "mjGbpMVf2_1J",
        "outputId": "9679bc2d-386c-42e4-97ed-2ecc8313dcc4"
      },
      "execution_count": 7,
      "outputs": [
        {
          "output_type": "execute_result",
          "data": {
            "text/plain": [
              "'? ? ? said as a result of its december acquisition of space co it expects earnings per share in 1987 of 1 15 to 1 30 dlrs per share up from 70 cts in 1986 the company said pretax net should rise to nine to 10 mln dlrs from six mln dlrs in 1986 and rental operation revenues to 19 to 22 mln dlrs from 12 5 mln dlrs it said cash flow per share this year should be 2 50 to three dlrs reuter 3'"
            ],
            "application/vnd.google.colaboratory.intrinsic+json": {
              "type": "string"
            }
          },
          "metadata": {},
          "execution_count": 7
        }
      ]
    },
    {
      "cell_type": "code",
      "source": [
        "train_data[0]"
      ],
      "metadata": {
        "colab": {
          "base_uri": "https://localhost:8080/"
        },
        "id": "xrN8yvih2_3j",
        "outputId": "8c05ee75-4f16-4806-98d5-e30a8a9e42b4"
      },
      "execution_count": 8,
      "outputs": [
        {
          "output_type": "execute_result",
          "data": {
            "text/plain": [
              "[1,\n",
              " 2,\n",
              " 2,\n",
              " 8,\n",
              " 43,\n",
              " 10,\n",
              " 447,\n",
              " 5,\n",
              " 25,\n",
              " 207,\n",
              " 270,\n",
              " 5,\n",
              " 3095,\n",
              " 111,\n",
              " 16,\n",
              " 369,\n",
              " 186,\n",
              " 90,\n",
              " 67,\n",
              " 7,\n",
              " 89,\n",
              " 5,\n",
              " 19,\n",
              " 102,\n",
              " 6,\n",
              " 19,\n",
              " 124,\n",
              " 15,\n",
              " 90,\n",
              " 67,\n",
              " 84,\n",
              " 22,\n",
              " 482,\n",
              " 26,\n",
              " 7,\n",
              " 48,\n",
              " 4,\n",
              " 49,\n",
              " 8,\n",
              " 864,\n",
              " 39,\n",
              " 209,\n",
              " 154,\n",
              " 6,\n",
              " 151,\n",
              " 6,\n",
              " 83,\n",
              " 11,\n",
              " 15,\n",
              " 22,\n",
              " 155,\n",
              " 11,\n",
              " 15,\n",
              " 7,\n",
              " 48,\n",
              " 9,\n",
              " 4579,\n",
              " 1005,\n",
              " 504,\n",
              " 6,\n",
              " 258,\n",
              " 6,\n",
              " 272,\n",
              " 11,\n",
              " 15,\n",
              " 22,\n",
              " 134,\n",
              " 44,\n",
              " 11,\n",
              " 15,\n",
              " 16,\n",
              " 8,\n",
              " 197,\n",
              " 1245,\n",
              " 90,\n",
              " 67,\n",
              " 52,\n",
              " 29,\n",
              " 209,\n",
              " 30,\n",
              " 32,\n",
              " 132,\n",
              " 6,\n",
              " 109,\n",
              " 15,\n",
              " 17,\n",
              " 12]"
            ]
          },
          "metadata": {},
          "execution_count": 8
        }
      ]
    },
    {
      "cell_type": "markdown",
      "source": [
        "# Prepare dataset"
      ],
      "metadata": {
        "id": "S8yI9i--3rms"
      }
    },
    {
      "cell_type": "code",
      "source": [
        "import numpy as np\n",
        "\n",
        "def vectorize_sequences(sequences, dimension=10000):\n",
        "    results = np.zeros((len(sequences), dimension))\n",
        "    for i, sequence in enumerate(sequences):\n",
        "        results[i, sequence] = 1.\n",
        "    return results\n",
        "\n",
        "x_train = vectorize_sequences(train_data)\n",
        "x_test = vectorize_sequences(test_data)\n"
      ],
      "metadata": {
        "id": "Rysy53MS2_6r"
      },
      "execution_count": 10,
      "outputs": []
    },
    {
      "cell_type": "code",
      "source": [
        "def to_one_hot(labels, dimension=46):\n",
        "    results = np.zeros((len(labels), dimension))\n",
        "    for i, label in enumerate(labels):\n",
        "        results[i, label] = 1.\n",
        "    return results\n",
        "\n",
        "one_hot_train_labels = to_one_hot(train_labels)\n",
        "one_hot_test_labels = to_one_hot(test_labels)"
      ],
      "metadata": {
        "id": "Mat7HINh2_9M"
      },
      "execution_count": 12,
      "outputs": []
    },
    {
      "cell_type": "code",
      "source": [
        "#from keras.utils.np_utils import to_categorical\n",
        "from tensorflow.keras.utils import to_categorical\n",
        "\n",
        "one_hot_train_labels = to_categorical(train_labels)\n",
        "one_hot_test_labels = to_categorical(test_labels)"
      ],
      "metadata": {
        "id": "01aKUscc2__4"
      },
      "execution_count": 14,
      "outputs": []
    },
    {
      "cell_type": "markdown",
      "source": [
        "# Build Model"
      ],
      "metadata": {
        "id": "o-bfVbGR4Q6O"
      }
    },
    {
      "cell_type": "code",
      "source": [
        "from keras import models\n",
        "from keras import layers\n",
        "\n",
        "model = models.Sequential()\n",
        "model.add(layers.Dense(64, activation='relu', input_shape=(10000,)))\n",
        "model.add(layers.Dense(64, activation='relu'))\n",
        "model.add(layers.Dense(46, activation='softmax'))\n"
      ],
      "metadata": {
        "id": "7ag4b_Ed3ADR"
      },
      "execution_count": 15,
      "outputs": []
    },
    {
      "cell_type": "code",
      "source": [
        "model.compile(optimizer='rmsprop',\n",
        "              loss='categorical_crossentropy',\n",
        "              metrics=['accuracy'])"
      ],
      "metadata": {
        "id": "HIjEfghC3AFy"
      },
      "execution_count": 16,
      "outputs": []
    },
    {
      "cell_type": "markdown",
      "source": [
        "# Verify model"
      ],
      "metadata": {
        "id": "Pjb4BAK54WcM"
      }
    },
    {
      "cell_type": "code",
      "source": [
        "x_val = x_train[:1000]\n",
        "partial_x_train = x_train[1000:]\n",
        "\n",
        "y_val = one_hot_train_labels[:1000]\n",
        "partial_y_train = one_hot_train_labels[1000:]"
      ],
      "metadata": {
        "id": "jW0JZZfO4YoL"
      },
      "execution_count": 17,
      "outputs": []
    },
    {
      "cell_type": "code",
      "source": [
        "history = model.fit(partial_x_train,\n",
        "                    partial_y_train,\n",
        "                    epochs=20,\n",
        "                    batch_size=512,\n",
        "                    validation_data=(x_val, y_val))\n"
      ],
      "metadata": {
        "colab": {
          "base_uri": "https://localhost:8080/"
        },
        "id": "W-yZLNWM4Yrg",
        "outputId": "5ec52db4-ec4d-4fd2-f8a3-60d3cf8f62e7"
      },
      "execution_count": 18,
      "outputs": [
        {
          "output_type": "stream",
          "name": "stdout",
          "text": [
            "Epoch 1/20\n",
            "16/16 [==============================] - 1s 55ms/step - loss: 2.7724 - accuracy: 0.5051 - val_loss: 1.8725 - val_accuracy: 0.6090\n",
            "Epoch 2/20\n",
            "16/16 [==============================] - 1s 54ms/step - loss: 1.5750 - accuracy: 0.6716 - val_loss: 1.4136 - val_accuracy: 0.6870\n",
            "Epoch 3/20\n",
            "16/16 [==============================] - 1s 39ms/step - loss: 1.2091 - accuracy: 0.7377 - val_loss: 1.2308 - val_accuracy: 0.7310\n",
            "Epoch 4/20\n",
            "16/16 [==============================] - 0s 27ms/step - loss: 0.9868 - accuracy: 0.7909 - val_loss: 1.1543 - val_accuracy: 0.7360\n",
            "Epoch 5/20\n",
            "16/16 [==============================] - 0s 28ms/step - loss: 0.8245 - accuracy: 0.8224 - val_loss: 1.0316 - val_accuracy: 0.7750\n",
            "Epoch 6/20\n",
            "16/16 [==============================] - 0s 27ms/step - loss: 0.6806 - accuracy: 0.8535 - val_loss: 0.9816 - val_accuracy: 0.8000\n",
            "Epoch 7/20\n",
            "16/16 [==============================] - 0s 29ms/step - loss: 0.5740 - accuracy: 0.8786 - val_loss: 0.9492 - val_accuracy: 0.7980\n",
            "Epoch 8/20\n",
            "16/16 [==============================] - 0s 27ms/step - loss: 0.4781 - accuracy: 0.8988 - val_loss: 0.9272 - val_accuracy: 0.8080\n",
            "Epoch 9/20\n",
            "16/16 [==============================] - 0s 28ms/step - loss: 0.4120 - accuracy: 0.9119 - val_loss: 0.9070 - val_accuracy: 0.8040\n",
            "Epoch 10/20\n",
            "16/16 [==============================] - 0s 28ms/step - loss: 0.3473 - accuracy: 0.9241 - val_loss: 0.8866 - val_accuracy: 0.8180\n",
            "Epoch 11/20\n",
            "16/16 [==============================] - 0s 28ms/step - loss: 0.3034 - accuracy: 0.9334 - val_loss: 0.9238 - val_accuracy: 0.8100\n",
            "Epoch 12/20\n",
            "16/16 [==============================] - 0s 27ms/step - loss: 0.2613 - accuracy: 0.9412 - val_loss: 0.8965 - val_accuracy: 0.8090\n",
            "Epoch 13/20\n",
            "16/16 [==============================] - 0s 28ms/step - loss: 0.2355 - accuracy: 0.9440 - val_loss: 0.8868 - val_accuracy: 0.8130\n",
            "Epoch 14/20\n",
            "16/16 [==============================] - 0s 28ms/step - loss: 0.2058 - accuracy: 0.9501 - val_loss: 0.9346 - val_accuracy: 0.8110\n",
            "Epoch 15/20\n",
            "16/16 [==============================] - 0s 28ms/step - loss: 0.1905 - accuracy: 0.9530 - val_loss: 0.9026 - val_accuracy: 0.8230\n",
            "Epoch 16/20\n",
            "16/16 [==============================] - 0s 27ms/step - loss: 0.1741 - accuracy: 0.9521 - val_loss: 0.9094 - val_accuracy: 0.8170\n",
            "Epoch 17/20\n",
            "16/16 [==============================] - 0s 27ms/step - loss: 0.1663 - accuracy: 0.9549 - val_loss: 1.0133 - val_accuracy: 0.8030\n",
            "Epoch 18/20\n",
            "16/16 [==============================] - 0s 27ms/step - loss: 0.1514 - accuracy: 0.9536 - val_loss: 0.9984 - val_accuracy: 0.8010\n",
            "Epoch 19/20\n",
            "16/16 [==============================] - 0s 27ms/step - loss: 0.1462 - accuracy: 0.9553 - val_loss: 0.9890 - val_accuracy: 0.8190\n",
            "Epoch 20/20\n",
            "16/16 [==============================] - 0s 27ms/step - loss: 0.1411 - accuracy: 0.9570 - val_loss: 1.0159 - val_accuracy: 0.8010\n"
          ]
        }
      ]
    },
    {
      "cell_type": "code",
      "source": [
        "import matplotlib.pyplot as plt\n",
        "loss = history.history['loss']\n",
        "val_loss = history.history['val_loss']\n",
        "\n",
        "epochs = range(1, len(loss) + 1)\n",
        "\n",
        "plt.plot(epochs, loss, 'bo', label='Training loss')\n",
        "plt.plot(epochs, val_loss, 'b', label='Validation loss')\n",
        "plt.title('Training and validation loss')\n",
        "plt.xlabel('Epochs')\n",
        "plt.ylabel('Loss')\n",
        "plt.legend()\n",
        "\n",
        "plt.show()"
      ],
      "metadata": {
        "colab": {
          "base_uri": "https://localhost:8080/",
          "height": 472
        },
        "id": "go6nLPEm4YuU",
        "outputId": "374dbb40-a7b0-419f-a401-43e02f67f170"
      },
      "execution_count": 19,
      "outputs": [
        {
          "output_type": "display_data",
          "data": {
            "text/plain": [
              "<Figure size 640x480 with 1 Axes>"
            ],
            "image/png": "[encoded data removed]"
          },
          "metadata": {}
        }
      ]
    },
    {
      "cell_type": "code",
      "source": [
        "history.history"
      ],
      "metadata": {
        "colab": {
          "base_uri": "https://localhost:8080/"
        },
        "id": "oVrx-zhm41_i",
        "outputId": "fff88da9-1858-45d7-b5a9-014d907035e4"
      },
      "execution_count": 21,
      "outputs": [
        {
          "output_type": "execute_result",
          "data": {
            "text/plain": [
              "{'loss': [2.772397994995117,\n",
              "  1.5749733448028564,\n",
              "  1.209088921546936,\n",
              "  0.9868441820144653,\n",
              "  0.8244776129722595,\n",
              "  0.6805922985076904,\n",
              "  0.5739840269088745,\n",
              "  0.4780508279800415,\n",
              "  0.41198161244392395,\n",
              "  0.3472736179828644,\n",
              "  0.30336427688598633,\n",
              "  0.2612607777118683,\n",
              "  0.23546579480171204,\n",
              "  0.20576000213623047,\n",
              "  0.19048945605754852,\n",
              "  0.17413079738616943,\n",
              "  0.16625724732875824,\n",
              "  0.15136265754699707,\n",
              "  0.14618052542209625,\n",
              "  0.1411428451538086],\n",
              " 'accuracy': [0.5051365494728088,\n",
              "  0.671636164188385,\n",
              "  0.737659752368927,\n",
              "  0.7909045219421387,\n",
              "  0.822350263595581,\n",
              "  0.8535454869270325,\n",
              "  0.8786018490791321,\n",
              "  0.8987722396850586,\n",
              "  0.911926805973053,\n",
              "  0.924079179763794,\n",
              "  0.9333500266075134,\n",
              "  0.9412428140640259,\n",
              "  0.9439989924430847,\n",
              "  0.9501377940177917,\n",
              "  0.9530193209648132,\n",
              "  0.9521422982215881,\n",
              "  0.9548985362052917,\n",
              "  0.9536457061767578,\n",
              "  0.9552743434906006,\n",
              "  0.957028329372406],\n",
              " 'val_loss': [1.872531771659851,\n",
              "  1.4136401414871216,\n",
              "  1.2308290004730225,\n",
              "  1.1542524099349976,\n",
              "  1.0316051244735718,\n",
              "  0.9816357493400574,\n",
              "  0.9492015242576599,\n",
              "  0.9272373914718628,\n",
              "  0.9070192575454712,\n",
              "  0.886616587638855,\n",
              "  0.9238399863243103,\n",
              "  0.8964692950248718,\n",
              "  0.886801540851593,\n",
              "  0.9345688223838806,\n",
              "  0.9026170372962952,\n",
              "  0.9093925356864929,\n",
              "  1.0132638216018677,\n",
              "  0.9984104633331299,\n",
              "  0.9889820218086243,\n",
              "  1.0159153938293457],\n",
              " 'val_accuracy': [0.609000027179718,\n",
              "  0.6869999766349792,\n",
              "  0.7310000061988831,\n",
              "  0.7360000014305115,\n",
              "  0.7749999761581421,\n",
              "  0.800000011920929,\n",
              "  0.7979999780654907,\n",
              "  0.8080000281333923,\n",
              "  0.8040000200271606,\n",
              "  0.8180000185966492,\n",
              "  0.8100000023841858,\n",
              "  0.8090000152587891,\n",
              "  0.8130000233650208,\n",
              "  0.8109999895095825,\n",
              "  0.8230000138282776,\n",
              "  0.8169999718666077,\n",
              "  0.8029999732971191,\n",
              "  0.8009999990463257,\n",
              "  0.8190000057220459,\n",
              "  0.8009999990463257]}"
            ]
          },
          "metadata": {},
          "execution_count": 21
        }
      ]
    },
    {
      "cell_type": "code",
      "source": [
        "plt.clf()\n",
        "\n",
        "acc = history.history['accuracy']\n",
        "val_acc = history.history['val_accuracy']\n",
        "\n",
        "plt.plot(epochs, acc, 'bo', label='Training acc')\n",
        "plt.plot(epochs, val_acc, 'b', label='Validation acc')\n",
        "plt.title('Training and validation accuracy')\n",
        "plt.xlabel('Epochs')\n",
        "plt.ylabel('Accuracy')\n",
        "plt.legend()\n",
        "\n",
        "plt.show()"
      ],
      "metadata": {
        "colab": {
          "base_uri": "https://localhost:8080/",
          "height": 472
        },
        "id": "CGIuvvc84Ywv",
        "outputId": "fb9d8536-25b6-4061-b51f-22ebc7cd0c83"
      },
      "execution_count": 22,
      "outputs": [
        {
          "output_type": "display_data",
          "data": {
            "text/plain": [
              "<Figure size 640x480 with 1 Axes>"
            ],
            "image/png": "[encoded data removed]"
          },
          "metadata": {}
        }
      ]
    },
    {
      "cell_type": "code",
      "source": [],
      "metadata": {
        "id": "4_eadFpZ4_lC"
      },
      "execution_count": null,
      "outputs": []
    },
    {
      "cell_type": "markdown",
      "source": [
        "# Overfitting. Re-fit the model"
      ],
      "metadata": {
        "id": "B4llOwyV4_yI"
      }
    },
    {
      "cell_type": "code",
      "source": [
        "model = models.Sequential()\n",
        "model.add(layers.Dense(64, activation='relu', input_shape=(10000,)))\n",
        "model.add(layers.Dense(64, activation='relu'))\n",
        "model.add(layers.Dense(46, activation='softmax'))\n",
        "\n",
        "model.compile(optimizer='rmsprop',\n",
        "              loss='categorical_crossentropy',\n",
        "              metrics=['accuracy'])\n",
        "model.fit(partial_x_train,\n",
        "          partial_y_train,\n",
        "          epochs=9,\n",
        "          batch_size=512,\n",
        "          validation_data=(x_val, y_val))\n",
        "results = model.evaluate(x_test, one_hot_test_labels)"
      ],
      "metadata": {
        "colab": {
          "base_uri": "https://localhost:8080/"
        },
        "id": "Bt1KXqsk4Y0Q",
        "outputId": "2ac6393d-6dc1-4e30-9d2a-a1cf1b05d3ac"
      },
      "execution_count": 23,
      "outputs": [
        {
          "output_type": "stream",
          "name": "stdout",
          "text": [
            "Epoch 1/9\n",
            "16/16 [==============================] - 1s 38ms/step - loss: 2.6330 - accuracy: 0.5195 - val_loss: 1.7207 - val_accuracy: 0.6380\n",
            "Epoch 2/9\n",
            "16/16 [==============================] - 0s 28ms/step - loss: 1.4528 - accuracy: 0.6933 - val_loss: 1.3055 - val_accuracy: 0.7030\n",
            "Epoch 3/9\n",
            "16/16 [==============================] - 0s 29ms/step - loss: 1.1119 - accuracy: 0.7603 - val_loss: 1.1454 - val_accuracy: 0.7540\n",
            "Epoch 4/9\n",
            "16/16 [==============================] - 0s 28ms/step - loss: 0.9056 - accuracy: 0.8013 - val_loss: 1.0457 - val_accuracy: 0.7720\n",
            "Epoch 5/9\n",
            "16/16 [==============================] - 0s 28ms/step - loss: 0.7485 - accuracy: 0.8376 - val_loss: 0.9889 - val_accuracy: 0.7880\n",
            "Epoch 6/9\n",
            "16/16 [==============================] - 0s 27ms/step - loss: 0.6214 - accuracy: 0.8681 - val_loss: 0.9571 - val_accuracy: 0.7880\n",
            "Epoch 7/9\n",
            "16/16 [==============================] - 0s 28ms/step - loss: 0.5138 - accuracy: 0.8904 - val_loss: 0.9178 - val_accuracy: 0.8020\n",
            "Epoch 8/9\n",
            "16/16 [==============================] - 0s 28ms/step - loss: 0.4322 - accuracy: 0.9082 - val_loss: 0.8715 - val_accuracy: 0.8190\n",
            "Epoch 9/9\n",
            "16/16 [==============================] - 0s 27ms/step - loss: 0.3652 - accuracy: 0.9223 - val_loss: 0.9043 - val_accuracy: 0.8060\n",
            "71/71 [==============================] - 0s 2ms/step - loss: 0.9839 - accuracy: 0.7756\n"
          ]
        }
      ]
    },
    {
      "cell_type": "code",
      "source": [
        "results"
      ],
      "metadata": {
        "colab": {
          "base_uri": "https://localhost:8080/"
        },
        "id": "vzND5MLm4Y2x",
        "outputId": "6d81de80-a694-4f2d-e80e-19ddc6e21f45"
      },
      "execution_count": 24,
      "outputs": [
        {
          "output_type": "execute_result",
          "data": {
            "text/plain": [
              "[0.9838737845420837, 0.7756010890007019]"
            ]
          },
          "metadata": {},
          "execution_count": 24
        }
      ]
    },
    {
      "cell_type": "code",
      "source": [
        "# in case of random shuffle.. accuracy is around :\n",
        "import copy\n",
        "\n",
        "test_labels_copy = copy.copy(test_labels)\n",
        "np.random.shuffle(test_labels_copy)\n",
        "float(np.sum(np.array(test_labels) == np.array(test_labels_copy))) / len(test_labels)\n"
      ],
      "metadata": {
        "colab": {
          "base_uri": "https://localhost:8080/"
        },
        "id": "8HzbIlm94Y46",
        "outputId": "06e5f678-e51b-4841-a355-2cda5a00dd9e"
      },
      "execution_count": 25,
      "outputs": [
        {
          "output_type": "execute_result",
          "data": {
            "text/plain": [
              "0.1892252894033838"
            ]
          },
          "metadata": {},
          "execution_count": 25
        }
      ]
    },
    {
      "cell_type": "markdown",
      "source": [
        "# For unseen data"
      ],
      "metadata": {
        "id": "LrDnb4L55UxN"
      }
    },
    {
      "cell_type": "code",
      "source": [
        "predictions = model.predict(x_test)"
      ],
      "metadata": {
        "colab": {
          "base_uri": "https://localhost:8080/"
        },
        "id": "8E88kpHY3AKO",
        "outputId": "5f1389bb-7f67-4532-9939-30647b6c7086"
      },
      "execution_count": 26,
      "outputs": [
        {
          "output_type": "stream",
          "name": "stdout",
          "text": [
            "71/71 [==============================] - 0s 2ms/step\n"
          ]
        }
      ]
    },
    {
      "cell_type": "code",
      "source": [
        "predictions[0].shape"
      ],
      "metadata": {
        "colab": {
          "base_uri": "https://localhost:8080/"
        },
        "id": "dtjtfnn25XbZ",
        "outputId": "db6b2a8a-56d8-4b6d-8fb0-52257224e9b5"
      },
      "execution_count": 27,
      "outputs": [
        {
          "output_type": "execute_result",
          "data": {
            "text/plain": [
              "(46,)"
            ]
          },
          "metadata": {},
          "execution_count": 27
        }
      ]
    },
    {
      "cell_type": "code",
      "source": [
        "np.sum(predictions[0])"
      ],
      "metadata": {
        "colab": {
          "base_uri": "https://localhost:8080/"
        },
        "id": "79af9W2f5XfQ",
        "outputId": "248f1c02-b385-41d3-e568-84656162aced"
      },
      "execution_count": 28,
      "outputs": [
        {
          "output_type": "execute_result",
          "data": {
            "text/plain": [
              "0.99999994"
            ]
          },
          "metadata": {},
          "execution_count": 28
        }
      ]
    },
    {
      "cell_type": "code",
      "source": [
        "# for example,, highest value amoung the 46 stalls become the accuracy prediction label\n",
        "np.argmax(predictions[0])"
      ],
      "metadata": {
        "colab": {
          "base_uri": "https://localhost:8080/"
        },
        "id": "hm7HRBDP5XjT",
        "outputId": "55f243d2-d9db-4c44-bfe4-d5f60cce54a9"
      },
      "execution_count": 29,
      "outputs": [
        {
          "output_type": "execute_result",
          "data": {
            "text/plain": [
              "3"
            ]
          },
          "metadata": {},
          "execution_count": 29
        }
      ]
    },
    {
      "cell_type": "markdown",
      "source": [
        "# Another way to encode label"
      ],
      "metadata": {
        "id": "yCc1SZgd5sOu"
      }
    },
    {
      "cell_type": "code",
      "source": [
        "y_train = np.array(train_labels)\n",
        "y_test = np.array(test_labels)"
      ],
      "metadata": {
        "id": "WzEr1aJL5v8x"
      },
      "execution_count": 30,
      "outputs": []
    },
    {
      "cell_type": "code",
      "source": [
        "model.compile(optimizer='rmsprop', loss='sparse_categorical_crossentropy', metrics=['acc'])"
      ],
      "metadata": {
        "id": "3ztmx_eB5v_v"
      },
      "execution_count": 31,
      "outputs": []
    },
    {
      "cell_type": "code",
      "source": [
        "# for this type of int tensor, you need to change the loss function"
      ],
      "metadata": {
        "id": "0cGVjWNY5wDX"
      },
      "execution_count": 32,
      "outputs": []
    },
    {
      "cell_type": "markdown",
      "source": [
        "# another validation showing importance of thick middle layer"
      ],
      "metadata": {
        "id": "uIF71jzY56-e"
      }
    },
    {
      "cell_type": "code",
      "source": [
        "model = models.Sequential()\n",
        "model.add(layers.Dense(64, activation='relu', input_shape=(10000,)))\n",
        "model.add(layers.Dense(4, activation='relu'))\n",
        "model.add(layers.Dense(46, activation='softmax'))\n",
        "\n",
        "model.compile(optimizer='rmsprop',\n",
        "              loss='categorical_crossentropy',\n",
        "              metrics=['accuracy'])\n",
        "model.fit(partial_x_train,\n",
        "          partial_y_train,\n",
        "          epochs=20,\n",
        "          batch_size=128,\n",
        "          validation_data=(x_val, y_val))"
      ],
      "metadata": {
        "colab": {
          "base_uri": "https://localhost:8080/"
        },
        "id": "Wq_8PsXa5wHa",
        "outputId": "a8c3d8a3-d6dd-4840-bada-2fe2821683af"
      },
      "execution_count": 33,
      "outputs": [
        {
          "output_type": "stream",
          "name": "stdout",
          "text": [
            "Epoch 1/20\n",
            "63/63 [==============================] - 2s 16ms/step - loss: 2.8735 - accuracy: 0.3399 - val_loss: 1.9917 - val_accuracy: 0.5940\n",
            "Epoch 2/20\n",
            "63/63 [==============================] - 1s 12ms/step - loss: 1.6534 - accuracy: 0.6254 - val_loss: 1.5020 - val_accuracy: 0.6350\n",
            "Epoch 3/20\n",
            "63/63 [==============================] - 1s 9ms/step - loss: 1.3418 - accuracy: 0.6622 - val_loss: 1.3811 - val_accuracy: 0.6470\n",
            "Epoch 4/20\n",
            "63/63 [==============================] - 1s 9ms/step - loss: 1.1936 - accuracy: 0.6865 - val_loss: 1.3312 - val_accuracy: 0.6530\n",
            "Epoch 5/20\n",
            "63/63 [==============================] - 1s 9ms/step - loss: 1.0851 - accuracy: 0.7005 - val_loss: 1.2744 - val_accuracy: 0.6610\n",
            "Epoch 6/20\n",
            "63/63 [==============================] - 1s 9ms/step - loss: 0.9940 - accuracy: 0.7171 - val_loss: 1.2456 - val_accuracy: 0.6810\n",
            "Epoch 7/20\n",
            "63/63 [==============================] - 1s 10ms/step - loss: 0.9104 - accuracy: 0.7524 - val_loss: 1.2400 - val_accuracy: 0.6970\n",
            "Epoch 8/20\n",
            "63/63 [==============================] - 1s 10ms/step - loss: 0.8351 - accuracy: 0.7801 - val_loss: 1.2283 - val_accuracy: 0.7000\n",
            "Epoch 9/20\n",
            "63/63 [==============================] - 1s 9ms/step - loss: 0.7711 - accuracy: 0.7964 - val_loss: 1.2171 - val_accuracy: 0.7080\n",
            "Epoch 10/20\n",
            "63/63 [==============================] - 1s 10ms/step - loss: 0.7140 - accuracy: 0.8082 - val_loss: 1.2288 - val_accuracy: 0.7190\n",
            "Epoch 11/20\n",
            "63/63 [==============================] - 1s 9ms/step - loss: 0.6638 - accuracy: 0.8198 - val_loss: 1.2330 - val_accuracy: 0.7100\n",
            "Epoch 12/20\n",
            "63/63 [==============================] - 1s 10ms/step - loss: 0.6217 - accuracy: 0.8316 - val_loss: 1.2415 - val_accuracy: 0.7230\n",
            "Epoch 13/20\n",
            "63/63 [==============================] - 1s 13ms/step - loss: 0.5860 - accuracy: 0.8391 - val_loss: 1.2601 - val_accuracy: 0.7210\n",
            "Epoch 14/20\n",
            "63/63 [==============================] - 1s 13ms/step - loss: 0.5538 - accuracy: 0.8482 - val_loss: 1.2929 - val_accuracy: 0.7190\n",
            "Epoch 15/20\n",
            "63/63 [==============================] - 1s 10ms/step - loss: 0.5238 - accuracy: 0.8550 - val_loss: 1.3247 - val_accuracy: 0.7190\n",
            "Epoch 16/20\n",
            "63/63 [==============================] - 1s 9ms/step - loss: 0.4995 - accuracy: 0.8618 - val_loss: 1.4173 - val_accuracy: 0.7130\n",
            "Epoch 17/20\n",
            "63/63 [==============================] - 1s 9ms/step - loss: 0.4784 - accuracy: 0.8677 - val_loss: 1.3865 - val_accuracy: 0.7140\n",
            "Epoch 18/20\n",
            "63/63 [==============================] - 1s 9ms/step - loss: 0.4552 - accuracy: 0.8753 - val_loss: 1.3832 - val_accuracy: 0.7170\n",
            "Epoch 19/20\n",
            "63/63 [==============================] - 1s 9ms/step - loss: 0.4359 - accuracy: 0.8791 - val_loss: 1.4422 - val_accuracy: 0.7220\n",
            "Epoch 20/20\n",
            "63/63 [==============================] - 1s 10ms/step - loss: 0.4196 - accuracy: 0.8807 - val_loss: 1.5082 - val_accuracy: 0.7200\n"
          ]
        },
        {
          "output_type": "execute_result",
          "data": {
            "text/plain": [
              "<keras.src.callbacks.History at 0x7c646fb3da80>"
            ]
          },
          "metadata": {},
          "execution_count": 33
        }
      ]
    },
    {
      "cell_type": "code",
      "source": [
        "results_small = model.evaluate(x_test, one_hot_test_labels)\n",
        "results_small"
      ],
      "metadata": {
        "colab": {
          "base_uri": "https://localhost:8080/"
        },
        "id": "e8BeX7rA5wKr",
        "outputId": "f19356ea-0491-4230-e0c6-7229c8d9ce76"
      },
      "execution_count": 36,
      "outputs": [
        {
          "output_type": "stream",
          "name": "stdout",
          "text": [
            "71/71 [==============================] - 0s 3ms/step - loss: 1.6924 - accuracy: 0.7115\n"
          ]
        },
        {
          "output_type": "execute_result",
          "data": {
            "text/plain": [
              "[1.69236159324646, 0.7114871144294739]"
            ]
          },
          "metadata": {},
          "execution_count": 36
        }
      ]
    }
  ]
}